{
 "cells": [
  {
   "cell_type": "markdown",
   "id": "afe4d5da",
   "metadata": {},
   "source": [
    "### Problem Statement\n",
    "## Perform sentimental analysis: \n",
    "### 1) Extract reviews of any product from ecommerce website like amazon\n",
    "### 2) Perform emotion mining"
   ]
  },
  {
   "cell_type": "code",
   "execution_count": 1,
   "id": "b1e419a9",
   "metadata": {},
   "outputs": [],
   "source": [
    "import pandas as pd\n",
    "import requests\n",
    "from tqdm import tqdm_notebook\n",
    "from bs4 import BeautifulSoup"
   ]
  },
  {
   "cell_type": "code",
   "execution_count": 2,
   "id": "51442e15",
   "metadata": {},
   "outputs": [],
   "source": [
    "headers = {\n",
    "    'authority': 'www.amazon.in',\n",
    "    'accept': 'text/html,application/xhtml+xml,application/xml;q=0.9,image/avif,image/webp,image/apng,*/*;q=0.8,application/signed-exchange;v=b3;q=0.9',\n",
    "    'accept-language': 'en-US,en;q=0.9',\n",
    "    'cache-control': 'max-age=0',\n",
    "    # Requests sorts cookies= alphabetically\n",
    "    # 'cookie': 'session-id=259-3113978-6678618; i18n-prefs=INR; ubid-acbin=260-8554202-6973909; lc-acbin=en_IN; csm-hit=tb:BS866TA0AKH6X86N924E+sa-7XYTQAXQHJP5ADH88228-DY27HYE0CK5V9FW24GBD|1656009294944&t:1656009294945&adb:adblk_yes; session-token=Z1j175VoYxPr2Un/9ciL3Q6lKw+QtLYYIwSQ+GLxjT06952u8vOZromD4WcFE0bs+yrUyLPy8HmIn7mTjUt8qsx3n0meC7yWKFqqwDEm5iecYedklsrNwmDrQOiaMH9lpacbdB8kgUk5IbZdg1VyhrdnY4OZrk6r350ARDEXJExuu2GZr0sV4fpbwUes/V9fDrfASeMQhVEEzmEAAHWN2g==; session-id-time=2082758401l',\n",
    "    'device-memory': '8',\n",
    "    'downlink': '10',\n",
    "    'dpr': '0.8',\n",
    "    'ect': '4g',\n",
    "    'referer': 'https://www.amazon.in/OnePlus-Nord-Black-128GB-Storage/dp/B09WQY65HN/ref=sr_1_4?crid=1D99WHM86WX80&keywords=oneplus&qid=1656009113&sprefix=onep%2Caps%2C315&sr=8-4&th=1',\n",
    "    'rtt': '0',\n",
    "    'sec-ch-device-memory': '8',\n",
    "    'sec-ch-dpr': '0.8',\n",
    "    'sec-ch-ua': '\" Not A;Brand\";v=\"99\", \"Chromium\";v=\"102\", \"Google Chrome\";v=\"102\"',\n",
    "    'sec-ch-ua-mobile': '?0',\n",
    "    'sec-ch-ua-platform': '\"Windows\"',\n",
    "    'sec-ch-viewport-width': '2400',\n",
    "    'sec-fetch-dest': 'document',\n",
    "    'sec-fetch-mode': 'navigate',\n",
    "    'sec-fetch-site': 'same-origin',\n",
    "    'sec-fetch-user': '?1',\n",
    "    'service-worker-navigation-preload': 'true',\n",
    "    'upgrade-insecure-requests': '1',\n",
    "    'user-agent': 'Mozilla/5.0 (Windows NT 10.0; Win64; x64) AppleWebKit/537.36 (KHTML, like Gecko) Chrome/102.0.0.0 Safari/537.36',\n",
    "    'viewport-width': '2400',\n",
    "}"
   ]
  },
  {
   "cell_type": "code",
   "execution_count": 4,
   "id": "8ca0d1f9",
   "metadata": {},
   "outputs": [],
   "source": [
    "def get_soup(url):\n",
    "    r = requests.get(url, headers=headers,\n",
    "    params={'url': url, 'wait': 2})\n",
    "    soup = BeautifulSoup(r.text, 'html.parser')\n",
    "    return soup"
   ]
  },
  {
   "cell_type": "code",
   "execution_count": 5,
   "id": "cc95f3ac",
   "metadata": {},
   "outputs": [],
   "source": [
    "reviewlist = []\n",
    "\n",
    "def get_reviews(soup):\n",
    "    reviews = soup.find_all('div', {'data-hook': 'review'})\n",
    "    try:\n",
    "        for item in reviews:\n",
    "            review = {\n",
    "            'product': soup.title.text.replace('Amazon.in:Customer reviews: ', '').strip(),    \n",
    "            'date': item.find('span', {'data-hook': 'review-date'}).text.replace('Reviewed in India on', '').strip(),\n",
    "            'title': item.find('a', {'data-hook': 'review-title'}).text.strip(),\n",
    "            'rating':  float(item.find('i', {'data-hook': 'review-star-rating'}).text.replace('out of 5 stars', '').strip()),\n",
    "            'body': item.find('span', {'data-hook': 'review-body'}).text.strip(),\n",
    "            }\n",
    "            reviewlist.append(review)\n",
    "    except:\n",
    "        pass"
   ]
  },
  {
   "cell_type": "code",
   "execution_count": 6,
   "id": "c4ee2299",
   "metadata": {},
   "outputs": [],
   "source": [
    "reviewlist = []\n",
    "\n",
    "def get_reviews(soup):\n",
    "    reviews = soup.find_all('div', {'data-hook': 'review'})\n",
    "    try:\n",
    "        for item in reviews:\n",
    "            review = {\n",
    "            'Rating':  float(item.find('i', {'data-hook': 'review-star-rating'}).text.replace('out of 5 stars', '').strip()),\n",
    "            'Title': item.find('a', {'data-hook': 'review-title'}).text.strip(),\n",
    "            'Review': item.find('span', {'data-hook': 'review-body'}).text.strip(),\n",
    "            'Review_Date': item.find('span', {'data-hook': 'review-date'}).text.replace('Reviewed in India on', '').strip(),\n",
    "            }\n",
    "            reviewlist.append(review)\n",
    "    except:\n",
    "        pass"
   ]
  },
  {
   "cell_type": "code",
   "execution_count": 7,
   "id": "7c9bb69b",
   "metadata": {},
   "outputs": [
    {
     "name": "stderr",
     "output_type": "stream",
     "text": [
      "C:\\Users\\LENOVO\\AppData\\Local\\Temp\\ipykernel_16116\\965255522.py:2: TqdmDeprecationWarning: This function will be removed in tqdm==5.0.0\n",
      "Please use `tqdm.notebook.tqdm` instead of `tqdm.tqdm_notebook`\n",
      "  for x in tqdm_notebook(range(1,1000)):\n"
     ]
    },
    {
     "data": {
      "application/vnd.jupyter.widget-view+json": {
       "model_id": "60deab3b7d3a4915b6dff70aa1c9b3dc",
       "version_major": 2,
       "version_minor": 0
      },
      "text/plain": [
       "  0%|          | 0/999 [00:00<?, ?it/s]"
      ]
     },
     "metadata": {},
     "output_type": "display_data"
    }
   ],
   "source": [
    "# loop through 1:x many pages, or until the css selector found only on the last page is found (when the next page button is greyed)\n",
    "for x in tqdm_notebook(range(1,1000)):\n",
    "    soup = get_soup(f'https://www.amazon.in/OnePlus-Nord-Mirror-128GB-Storage/product-reviews/B09RG132Q5/\\\n",
    "    ref=cm_cr_arp_d_paging_btm_next_2?ie=UTF8&reviewerType=all_reviews&pageNumber={x}')\n",
    "    #print(f'Getting page: {x}')\n",
    "    get_reviews(soup)\n",
    "    #print(len(reviewlist))\n",
    "    if not soup.find('li', {'class': 'a-disabled a-last'}):\n",
    "        pass\n",
    "    else:\n",
    "        break"
   ]
  },
  {
   "cell_type": "code",
   "execution_count": 9,
   "id": "62a53ee4",
   "metadata": {},
   "outputs": [
    {
     "data": {
      "text/html": [
       "<div>\n",
       "<style scoped>\n",
       "    .dataframe tbody tr th:only-of-type {\n",
       "        vertical-align: middle;\n",
       "    }\n",
       "\n",
       "    .dataframe tbody tr th {\n",
       "        vertical-align: top;\n",
       "    }\n",
       "\n",
       "    .dataframe thead th {\n",
       "        text-align: right;\n",
       "    }\n",
       "</style>\n",
       "<table border=\"1\" class=\"dataframe\">\n",
       "  <thead>\n",
       "    <tr style=\"text-align: right;\">\n",
       "      <th></th>\n",
       "      <th>Rating</th>\n",
       "      <th>Title</th>\n",
       "      <th>Review</th>\n",
       "      <th>Review_Date</th>\n",
       "    </tr>\n",
       "  </thead>\n",
       "  <tbody>\n",
       "    <tr>\n",
       "      <th>0</th>\n",
       "      <td>4.0</td>\n",
       "      <td>The camera quality could be a bit better, and ...</td>\n",
       "      <td>after 4 months of usage, the mobile is very go...</td>\n",
       "      <td>Reviewed in India 🇮🇳 on 29 November 2022</td>\n",
       "    </tr>\n",
       "    <tr>\n",
       "      <th>1</th>\n",
       "      <td>4.0</td>\n",
       "      <td>NICE PHONE WITH NICE FEATURES BUT BATTERY &amp; BR...</td>\n",
       "      <td>I was searching a smartphone in 25-30k segment...</td>\n",
       "      <td>Reviewed in India 🇮🇳 on 7 November 2022</td>\n",
       "    </tr>\n",
       "    <tr>\n",
       "      <th>2</th>\n",
       "      <td>4.0</td>\n",
       "      <td>Awesome product</td>\n",
       "      <td>It is good product and smoothly run, battery l...</td>\n",
       "      <td>Reviewed in India 🇮🇳 on 26 November 2022</td>\n",
       "    </tr>\n",
       "    <tr>\n",
       "      <th>3</th>\n",
       "      <td>4.0</td>\n",
       "      <td>Best for elderly people</td>\n",
       "      <td>Bought in big billion day sale but towards the...</td>\n",
       "      <td>Reviewed in India 🇮🇳 on 8 November 2022</td>\n",
       "    </tr>\n",
       "    <tr>\n",
       "      <th>4</th>\n",
       "      <td>4.0</td>\n",
       "      <td>It's good but not over the top.</td>\n",
       "      <td>So, I am reviewing it after using this device ...</td>\n",
       "      <td>Reviewed in India 🇮🇳 on 24 November 2022</td>\n",
       "    </tr>\n",
       "    <tr>\n",
       "      <th>...</th>\n",
       "      <td>...</td>\n",
       "      <td>...</td>\n",
       "      <td>...</td>\n",
       "      <td>...</td>\n",
       "    </tr>\n",
       "    <tr>\n",
       "      <th>4995</th>\n",
       "      <td>5.0</td>\n",
       "      <td>Very very good phone</td>\n",
       "      <td>I like this phone battery life is very good di...</td>\n",
       "      <td>Reviewed in India 🇮🇳 on 25 June 2022</td>\n",
       "    </tr>\n",
       "    <tr>\n",
       "      <th>4996</th>\n",
       "      <td>5.0</td>\n",
       "      <td>Narendra</td>\n",
       "      <td>Good</td>\n",
       "      <td>Reviewed in India 🇮🇳 on 1 August 2022</td>\n",
       "    </tr>\n",
       "    <tr>\n",
       "      <th>4997</th>\n",
       "      <td>4.0</td>\n",
       "      <td>Everything thing is good but phone got heated ...</td>\n",
       "      <td>Like design of phoneBut it is heating up durin...</td>\n",
       "      <td>Reviewed in India 🇮🇳 on 14 March 2022</td>\n",
       "    </tr>\n",
       "    <tr>\n",
       "      <th>4998</th>\n",
       "      <td>5.0</td>\n",
       "      <td>Super Mobile and super cam</td>\n",
       "      <td>Super camSuper ColourSuper soundButCharging pe...</td>\n",
       "      <td>Reviewed in India 🇮🇳 on 15 July 2022</td>\n",
       "    </tr>\n",
       "    <tr>\n",
       "      <th>4999</th>\n",
       "      <td>5.0</td>\n",
       "      <td>Le lo</td>\n",
       "      <td>Osum budget phone</td>\n",
       "      <td>Reviewed in India 🇮🇳 on 29 July 2022</td>\n",
       "    </tr>\n",
       "  </tbody>\n",
       "</table>\n",
       "<p>5000 rows × 4 columns</p>\n",
       "</div>"
      ],
      "text/plain": [
       "      Rating                                              Title  \\\n",
       "0        4.0  The camera quality could be a bit better, and ...   \n",
       "1        4.0  NICE PHONE WITH NICE FEATURES BUT BATTERY & BR...   \n",
       "2        4.0                                    Awesome product   \n",
       "3        4.0                            Best for elderly people   \n",
       "4        4.0                    It's good but not over the top.   \n",
       "...      ...                                                ...   \n",
       "4995     5.0                               Very very good phone   \n",
       "4996     5.0                                           Narendra   \n",
       "4997     4.0  Everything thing is good but phone got heated ...   \n",
       "4998     5.0                         Super Mobile and super cam   \n",
       "4999     5.0                                              Le lo   \n",
       "\n",
       "                                                 Review  \\\n",
       "0     after 4 months of usage, the mobile is very go...   \n",
       "1     I was searching a smartphone in 25-30k segment...   \n",
       "2     It is good product and smoothly run, battery l...   \n",
       "3     Bought in big billion day sale but towards the...   \n",
       "4     So, I am reviewing it after using this device ...   \n",
       "...                                                 ...   \n",
       "4995  I like this phone battery life is very good di...   \n",
       "4996                                               Good   \n",
       "4997  Like design of phoneBut it is heating up durin...   \n",
       "4998  Super camSuper ColourSuper soundButCharging pe...   \n",
       "4999                                  Osum budget phone   \n",
       "\n",
       "                                   Review_Date  \n",
       "0     Reviewed in India 🇮🇳 on 29 November 2022  \n",
       "1      Reviewed in India 🇮🇳 on 7 November 2022  \n",
       "2     Reviewed in India 🇮🇳 on 26 November 2022  \n",
       "3      Reviewed in India 🇮🇳 on 8 November 2022  \n",
       "4     Reviewed in India 🇮🇳 on 24 November 2022  \n",
       "...                                        ...  \n",
       "4995      Reviewed in India 🇮🇳 on 25 June 2022  \n",
       "4996     Reviewed in India 🇮🇳 on 1 August 2022  \n",
       "4997     Reviewed in India 🇮🇳 on 14 March 2022  \n",
       "4998      Reviewed in India 🇮🇳 on 15 July 2022  \n",
       "4999      Reviewed in India 🇮🇳 on 29 July 2022  \n",
       "\n",
       "[5000 rows x 4 columns]"
      ]
     },
     "execution_count": 9,
     "metadata": {},
     "output_type": "execute_result"
    }
   ],
   "source": [
    "# Save results to a dataframe, then export as CSV\n",
    "df = pd.DataFrame(reviewlist)\n",
    "df"
   ]
  },
  {
   "cell_type": "code",
   "execution_count": 10,
   "id": "ed39c39b",
   "metadata": {},
   "outputs": [],
   "source": [
    "df.to_csv(\"Amazon_Reviews_Oneplus_Nord_CE2.csv\")"
   ]
  },
  {
   "cell_type": "markdown",
   "id": "bc68e8de",
   "metadata": {},
   "source": [
    "## <a id='2'>2. Import Libraries</a>"
   ]
  },
  {
   "cell_type": "code",
   "execution_count": null,
   "id": "231f31fc",
   "metadata": {},
   "outputs": [],
   "source": [
    "import numpy as np \n",
    "import pandas as pd \n",
    "import matplotlib.pyplot as plt \n",
    "import seaborn as sns\n",
    "import re\n",
    "import time\n",
    "import string\n",
    "import warnings\n",
    "import spacy\n",
    "from tqdm.notebook import tqdm_notebook\n",
    "\n",
    "# for all NLP related operations on text\n",
    "import nltk\n",
    "from nltk.corpus import stopwords\n",
    "from nltk.tokenize import sent_tokenize, word_tokenize\n",
    "from nltk.sentiment.vader import SentimentIntensityAnalyzer\n",
    "from nltk.stem import WordNetLemmatizer\n",
    "from nltk.stem.porter import *\n",
    "from nltk.classify import NaiveBayesClassifier\n",
    "from nltk.stem.porter import PorterStemmer\n",
    "from wordcloud import WordCloud, STOPWORDS\n",
    "from plotly import graph_objs as go\n",
    "import plotly.express as px\n",
    "import plotly.figure_factory as ff\n",
    "from collections import Counter\n",
    "\n",
    "from sklearn.feature_extraction.text import CountVectorizer, TfidfVectorizer\n",
    "from sklearn.linear_model import LogisticRegression\n",
    "from sklearn.model_selection import train_test_split\n",
    "from sklearn.metrics import f1_score, confusion_matrix, accuracy_score, classification_report\n",
    "from sklearn.svm import SVC\n",
    "from sklearn.naive_bayes import GaussianNB\n",
    "\n",
    "# To identify the sentiment of text\n",
    "from textblob import TextBlob\n",
    "from textblob.sentiments import NaiveBayesAnalyzer\n",
    "from textblob.np_extractors import ConllExtractor\n",
    "\n",
    "from sklearn.feature_extraction.text import CountVectorizer \n",
    "from sklearn.pipeline import make_pipeline\n",
    "from nltk.tokenize import RegexpTokenizer\n",
    "\n",
    "# ignoring all the warnings\n",
    "warnings.filterwarnings(\"ignore\", category=DeprecationWarning)\n",
    "\n",
    "# downloading stopwords corpus\n",
    "nltk.download('stopwords')\n",
    "nltk.download('wordnet')\n",
    "nltk.download('vader_lexicon')\n",
    "nltk.download('averaged_perceptron_tagger')\n",
    "nltk.download('movie_reviews')\n",
    "nltk.download('punkt')\n",
    "nltk.download('conll2000')\n",
    "nltk.download('brown')\n",
    "stopwords = set(stopwords.words(\"english\"))\n",
    "\n",
    "# for showing all the plots inline\n",
    "%matplotlib inline"
   ]
  },
  {
   "cell_type": "code",
   "execution_count": null,
   "id": "8ac1ca2d",
   "metadata": {},
   "outputs": [],
   "source": [
    "# load the dataset\n",
    "reviews=pd.read_csv('C:/Users/Moin Dalvi/Documents/Data Science Material/Data Science Assignments/Text MIning/Amazon_Reviews_Oneplus_Nord_CE2.csv')\n",
    "reviews.drop(['Unnamed: 0'],inplace=True,axis=1)\n",
    "reviews"
   ]
  },
  {
   "cell_type": "markdown",
   "id": "e92ba9ce",
   "metadata": {},
   "source": [
    "0.1. __<a href='#0.1' target='_self'>Table of Contents:</a>__"
   ]
  },
  {
   "cell_type": "markdown",
   "id": "279b74dd",
   "metadata": {},
   "source": [
    "## <a id='3'>3. Data Exploration</a>"
   ]
  },
  {
   "cell_type": "code",
   "execution_count": null,
   "id": "1c39765b",
   "metadata": {},
   "outputs": [],
   "source": [
    "reviews.Rating.describe()"
   ]
  },
  {
   "cell_type": "markdown",
   "id": "a6e6b950",
   "metadata": {},
   "source": [
    "#### Number of Words"
   ]
  },
  {
   "cell_type": "code",
   "execution_count": null,
   "id": "f40e4de5",
   "metadata": {},
   "outputs": [],
   "source": [
    "reviews['word_count'] = reviews['Review'].apply(lambda x: len(str(x).split(\" \")))\n",
    "reviews[['Review','word_count']].head()"
   ]
  },
  {
   "cell_type": "markdown",
   "id": "bc9a47e7",
   "metadata": {},
   "source": [
    "#### Number of characters"
   ]
  },
  {
   "cell_type": "code",
   "execution_count": null,
   "id": "ca6a050c",
   "metadata": {},
   "outputs": [],
   "source": [
    "reviews['char_count'] = reviews['Review'].str.len() ## this also includes spaces\n",
    "reviews[['Review','char_count']].head()"
   ]
  },
  {
   "cell_type": "markdown",
   "id": "e55733c1",
   "metadata": {},
   "source": [
    "#### Average Word Length"
   ]
  },
  {
   "cell_type": "code",
   "execution_count": null,
   "id": "e1603f3f",
   "metadata": {},
   "outputs": [],
   "source": [
    "def avg_word(sentence):\n",
    "  words = str(sentence).split()\n",
    "  return (sum(len(word) for word in words)/len(words))\n",
    "\n",
    "reviews['avg_word'] = reviews['Review'].apply(lambda x: avg_word(x))\n",
    "reviews[['Review','avg_word']].head()"
   ]
  },
  {
   "cell_type": "markdown",
   "id": "ae7ad0e7",
   "metadata": {},
   "source": [
    "#### Number of stopwords"
   ]
  },
  {
   "cell_type": "code",
   "execution_count": null,
   "id": "e572f99b",
   "metadata": {},
   "outputs": [],
   "source": [
    "from nltk.corpus import stopwords\n",
    "stop = stopwords.words('english')\n",
    "\n",
    "reviews['stopwords'] = reviews['Review'].apply(lambda x: len([x for x in str(x).split() if x in stop]))\n",
    "reviews[['Review','stopwords']].head()"
   ]
  },
  {
   "cell_type": "markdown",
   "id": "f49866e5",
   "metadata": {},
   "source": [
    "#### Number of special characters"
   ]
  },
  {
   "cell_type": "code",
   "execution_count": null,
   "id": "31a14827",
   "metadata": {},
   "outputs": [],
   "source": [
    "reviews['hashtags'] = reviews['Review'].apply(lambda x: len([x for x in str(x).split() if x.startswith('#')]))\n",
    "reviews[['Review','hashtags']].head()"
   ]
  },
  {
   "cell_type": "markdown",
   "id": "55b3c549",
   "metadata": {},
   "source": [
    "#### Number of numerics"
   ]
  },
  {
   "cell_type": "code",
   "execution_count": null,
   "id": "a8d38d39",
   "metadata": {},
   "outputs": [],
   "source": [
    "reviews['numerics'] = reviews['Review'].apply(lambda x: len([x for x in str(x).split() if x.isdigit()]))\n",
    "reviews[['Review','numerics']].head()"
   ]
  },
  {
   "cell_type": "markdown",
   "id": "7f145f71",
   "metadata": {},
   "source": [
    "#### Number of Uppercase words"
   ]
  },
  {
   "cell_type": "code",
   "execution_count": null,
   "id": "04dab19d",
   "metadata": {},
   "outputs": [],
   "source": [
    "reviews['upper'] = reviews['Review'].apply(lambda x: len([x for x in str(x).split() if x.isupper()]))\n",
    "reviews[['Review','upper']].head()"
   ]
  },
  {
   "cell_type": "code",
   "execution_count": null,
   "id": "305c0117",
   "metadata": {},
   "outputs": [],
   "source": [
    "reviews.drop(['numerics','hashtags','stopwords','avg_word','char_count','word_count','hastags','upper'],axis=1,inplace=True)"
   ]
  },
  {
   "cell_type": "markdown",
   "id": "0897f7ef",
   "metadata": {},
   "source": [
    "####  Spelling correction\n",
    "We’ve all seen tweets with a plethora of spelling mistakes. Our timelines are often filled with hastly sent tweets that are barely legible at times.\n",
    "\n",
    "In that regard, spelling correction is a useful pre-processing step because this also will help us in reducing multiple copies of words.\n",
    "\n",
    "To achieve this we will use the textblob library. If you are not familiar with it, you can check my previous article on ‘NLP for beginners using textblob’"
   ]
  },
  {
   "cell_type": "code",
   "execution_count": null,
   "id": "0ff5e777",
   "metadata": {},
   "outputs": [],
   "source": [
    "from textblob import TextBlob\n",
    "reviews['Review'][:5].apply(lambda x: str(TextBlob(x).correct()))"
   ]
  },
  {
   "cell_type": "markdown",
   "id": "bb01f6ad",
   "metadata": {},
   "source": [
    "#### As you can see spelling mistake did a mistake of correcting the word Hang into Sang in Context to this review the word 'Hang' fits here and not 'Sang'"
   ]
  },
  {
   "cell_type": "markdown",
   "id": "38f5aea4",
   "metadata": {},
   "source": [
    "0.1. __<a href='#0.1' target='_self'>Table of Contents:</a>__"
   ]
  },
  {
   "cell_type": "markdown",
   "id": "f81c1de2",
   "metadata": {},
   "source": [
    "## <a id='4'>4. Feature Engineering</a>"
   ]
  },
  {
   "cell_type": "code",
   "execution_count": null,
   "id": "1f87b523",
   "metadata": {},
   "outputs": [],
   "source": [
    "print(reviews['Review_Date'].str.split(' ').str[0],'\\n',\n",
    "      reviews['Review_Date'].str.split(' ').str[1],'\\n',\n",
    "      reviews['Review_Date'].str.split(' ').str[2])"
   ]
  },
  {
   "cell_type": "markdown",
   "id": "d301373b",
   "metadata": {},
   "source": [
    "### Spliting Review Date into Three seperate Columns (Year,Month,Day)"
   ]
  },
  {
   "cell_type": "code",
   "execution_count": null,
   "id": "4b1dbbb6",
   "metadata": {},
   "outputs": [],
   "source": [
    "df=reviews.copy()\n",
    "df['Date']=df['Review_Date'].str.split(' ').str[0]\n",
    "df['Month']=df['Review_Date'].str.split(' ').str[1]\n",
    "df['Year']=df['Review_Date'].str.split(' ').str[2]\n",
    "df[['Date','Month','Year']]"
   ]
  },
  {
   "cell_type": "code",
   "execution_count": null,
   "id": "369571d9",
   "metadata": {},
   "outputs": [],
   "source": [
    "df.Month.value_counts()"
   ]
  },
  {
   "cell_type": "markdown",
   "id": "3378daf1",
   "metadata": {},
   "source": [
    "### Change 'month' from words to numbers for easier analysis"
   ]
  },
  {
   "cell_type": "code",
   "execution_count": null,
   "id": "6689bf04",
   "metadata": {},
   "outputs": [],
   "source": [
    "order={'Month':{'February':2,'March':3,'April':4,'May':5,'June':6}}\n",
    "df1= df.copy()\n",
    "df1=df1.replace(order)\n",
    "df1[['Month']]"
   ]
  },
  {
   "cell_type": "code",
   "execution_count": null,
   "id": "037af67a",
   "metadata": {},
   "outputs": [],
   "source": [
    "df1.info()"
   ]
  },
  {
   "cell_type": "code",
   "execution_count": null,
   "id": "a2abdb3e",
   "metadata": {},
   "outputs": [],
   "source": [
    "df1[['Date','Year']]=df1[['Date','Year']].astype('int64')\n",
    "df1.info()"
   ]
  },
  {
   "cell_type": "markdown",
   "id": "5f1cfdaf",
   "metadata": {},
   "source": [
    "### Dropping the Original Columns after splitting the data"
   ]
  },
  {
   "cell_type": "code",
   "execution_count": null,
   "id": "9adbbde6",
   "metadata": {},
   "outputs": [],
   "source": [
    "df1.drop('Review_Date',axis=1, inplace=True)\n",
    "df1.head()"
   ]
  },
  {
   "cell_type": "code",
   "execution_count": null,
   "id": "8cbcb7e2",
   "metadata": {},
   "outputs": [],
   "source": [
    "df"
   ]
  },
  {
   "cell_type": "markdown",
   "id": "5bb71f9a",
   "metadata": {},
   "source": [
    "0.1. __<a href='#0.1' target='_self'>Table of Contents:</a>__"
   ]
  },
  {
   "cell_type": "markdown",
   "id": "d20d2602",
   "metadata": {},
   "source": [
    "## <a id='5'>5. Data Visualization</a>"
   ]
  },
  {
   "cell_type": "markdown",
   "id": "2e021ffb",
   "metadata": {},
   "source": [
    "#### date versus review count"
   ]
  },
  {
   "cell_type": "code",
   "execution_count": null,
   "id": "7766f149",
   "metadata": {},
   "outputs": [],
   "source": [
    "#Creating a dataframe\n",
    "dayreview = pd.DataFrame(df.groupby('Date')['Review'].count()).reset_index()\n",
    "dayreview['Date'] = dayreview['Date'].astype('int64')\n",
    "dayreview.sort_values(by = ['Date'])\n",
    "\n",
    "#Plotting the graph\n",
    "plt.figure(figsize=(16,8))\n",
    "sns.barplot(x = \"Date\", y = \"Review\", data = dayreview)\n",
    "plt.title('Date vs Reviews count')\n",
    "plt.xlabel('Date')\n",
    "plt.ylabel('Reviews count')\n",
    "plt.show()"
   ]
  },
  {
   "cell_type": "code",
   "execution_count": null,
   "id": "41b77979",
   "metadata": {},
   "outputs": [],
   "source": [
    "plt.figure(figsize=(12,8))\n",
    "plt.title('Percentage of Ratings')\n",
    "ax = sns.countplot(y = 'Rating', data = reviews)\n",
    "total = len(reviews)\n",
    "for p in ax.patches:\n",
    "        percentage = '{:.1f}%'.format(100 * p.get_width()/total)\n",
    "        x = p.get_x() + p.get_width() + 0.02\n",
    "        y = p.get_y() + p.get_height()/2\n",
    "        ax.annotate(percentage, (x, y))"
   ]
  },
  {
   "cell_type": "code",
   "execution_count": null,
   "id": "0647753a",
   "metadata": {},
   "outputs": [],
   "source": [
    "plt.figure(figsize = (12,8))\n",
    "plt.pie(df['Rating'].value_counts().sort_index(),\n",
    "       labels=df['Rating'].value_counts().sort_index().index,\n",
    "       explode = [0.00,0.0,0.0,0.0,0.05],\n",
    "       autopct= '%.2f%%',\n",
    "        colors = [\"#ff4545\", \"#ffa534\",'#ffe234','#b7dd29','#57e32c'],\n",
    "       shadow= True,\n",
    "       startangle= 190,\n",
    "       textprops = {'size':'small',\n",
    "                   'fontweight':'bold',\n",
    "                    'rotation':'0',\n",
    "                   'color':'black'})\n",
    "plt.legend(loc= 'upper right')\n",
    "plt.title(\"Most Ratings Distribution Pie Chart\", fontsize = 18, fontweight = 'bold')\n",
    "plt.show()"
   ]
  },
  {
   "cell_type": "code",
   "execution_count": null,
   "id": "943f95f1",
   "metadata": {},
   "outputs": [],
   "source": [
    "plt.figure(figsize = (12,8))\n",
    "plt.pie(df['Month'].value_counts(),\n",
    "       labels=df['Month'].value_counts().index,\n",
    "       explode = [0.1,0.0,0.0,0.0,0.0],\n",
    "       autopct= '%.2f%%',\n",
    "       shadow= True,\n",
    "       startangle= 190,\n",
    "       textprops = {'size':'large',\n",
    "                   'fontweight':'bold',\n",
    "                    'rotation':'0',\n",
    "                   'color':'black'})\n",
    "plt.legend(loc= 'upper right')\n",
    "plt.title(\"Most Purchase Month Distribution\", fontsize = 18, fontweight = 'bold')\n",
    "plt.show()"
   ]
  },
  {
   "cell_type": "markdown",
   "id": "43b78f9f",
   "metadata": {},
   "source": [
    "0.1. __<a href='#0.1' target='_self'>Table of Contents:</a>__"
   ]
  },
  {
   "cell_type": "markdown",
   "id": "cfaf323e",
   "metadata": {},
   "source": [
    "##  <a id='6'>6. BasicText Preprocessing</a>\n",
    "### <a id='6A'>A. For Sentiment Analysis</a> \n",
    "##### keeping the DataFrame intact and each tweets separate from each other"
   ]
  },
  {
   "cell_type": "code",
   "execution_count": null,
   "id": "ec7ecb76",
   "metadata": {},
   "outputs": [],
   "source": [
    "data = df[['Review']]\n",
    "data"
   ]
  },
  {
   "cell_type": "code",
   "execution_count": null,
   "id": "62f4f608",
   "metadata": {},
   "outputs": [],
   "source": [
    "from nltk.corpus import stopwords\n",
    "stop_words = stopwords.words('english')\n",
    "data['Review'] = data['Review'].apply(lambda x: \" \".join(x.lower() for x in str(x).split() \\\n",
    "                                    if x not in stop_words))"
   ]
  },
  {
   "cell_type": "code",
   "execution_count": null,
   "id": "e91ec1a5",
   "metadata": {},
   "outputs": [],
   "source": [
    "data"
   ]
  },
  {
   "cell_type": "code",
   "execution_count": null,
   "id": "3102b992",
   "metadata": {},
   "outputs": [],
   "source": [
    "lemmatizer = WordNetLemmatizer()\n",
    "# Removing punctuation, making str to lower, applying Lemmatizer, Removing Stop words\n",
    "corpus=[]\n",
    "for i in tqdm_notebook(range(0, len(data))):\n",
    "    cleaned= re.sub('[^a-zA-Z]', \" \", data[\"Review\"][i])\n",
    "    cleaned= cleaned.lower()\n",
    "    cleaned = cleaned.split()\n",
    "    cleaned= [lemmatizer.lemmatize(word) for word in cleaned if word not in stopwords.words(\"english\")]\n",
    "    cleaned= ' '.join(cleaned)\n",
    "    corpus.append(cleaned)"
   ]
  },
  {
   "cell_type": "code",
   "execution_count": null,
   "id": "0fad5358",
   "metadata": {},
   "outputs": [],
   "source": [
    "#Saving cleaned data to compare with original data, to ckeck amount of information lost\n",
    "dataframe = pd.DataFrame({\"Clean_Reviews\": corpus,\"Uncleaned_Reviews\": df.Review})\n",
    "dataframe.head()"
   ]
  },
  {
   "cell_type": "markdown",
   "id": "12104ec3",
   "metadata": {},
   "source": [
    "0.1. __<a href='#0.1' target='_self'>Table of Contents:</a>__"
   ]
  },
  {
   "cell_type": "markdown",
   "id": "9e0ab247",
   "metadata": {},
   "source": [
    "## <a id='7'>7. Text Pre-processing Techniques</a> \n",
    "### <a id='7A'>A. Pre-processing 'Key Words'</a>\n",
    "#### <a id='7Aa'>a. Removing '@names'</a>"
   ]
  },
  {
   "cell_type": "code",
   "execution_count": null,
   "id": "70dc2a3a",
   "metadata": {},
   "outputs": [],
   "source": [
    "def remove_pattern(text, pattern_regex):\n",
    "    r = re.findall(pattern_regex, text)\n",
    "    for i in r:\n",
    "        text = re.sub(i, '', text)\n",
    "    \n",
    "    return text "
   ]
  },
  {
   "cell_type": "code",
   "execution_count": null,
   "id": "c8c9119d",
   "metadata": {},
   "outputs": [],
   "source": [
    "# We are keeping cleaned tweets in a new column called 'tidy_tweets'\n",
    "dataframe['Clean_Reviews'] = np.vectorize(remove_pattern)(dataframe['Clean_Reviews'], \"@[\\w]*\")\n",
    "dataframe.head(10)"
   ]
  },
  {
   "cell_type": "markdown",
   "id": "109f3ddc",
   "metadata": {},
   "source": [
    "#### <a id='7Ab'>b. Removing links (http | https)</a>"
   ]
  },
  {
   "cell_type": "code",
   "execution_count": null,
   "id": "c844d2cb",
   "metadata": {},
   "outputs": [],
   "source": [
    "cleaned_reviews = []\n",
    "\n",
    "for index, row in dataframe.iterrows():\n",
    "    # Here we are filtering out all the words that contains link\n",
    "    words_without_links = [word for word in row.Clean_Reviews.split() if 'http' not in word]\n",
    "    cleaned_reviews.append(' '.join(words_without_links))\n",
    "\n",
    "dataframe['Clean_Reviews'] = cleaned_reviews\n",
    "dataframe.head(10)"
   ]
  },
  {
   "cell_type": "markdown",
   "id": "89ede593",
   "metadata": {},
   "source": [
    "#### <a id='7Ac'>c. Removing Review with empty text</a>"
   ]
  },
  {
   "cell_type": "code",
   "execution_count": null,
   "id": "91dd212a",
   "metadata": {},
   "outputs": [],
   "source": [
    "dataframe = dataframe[dataframe['Clean_Reviews']!='']\n",
    "dataframe.head(10)"
   ]
  },
  {
   "cell_type": "markdown",
   "id": "04982e84",
   "metadata": {},
   "source": [
    "#### <a id='7Ad'>d. Dropping duplicate rows</a>"
   ]
  },
  {
   "cell_type": "code",
   "execution_count": null,
   "id": "ca50d387",
   "metadata": {},
   "outputs": [],
   "source": [
    "dataframe.drop_duplicates(subset=['Clean_Reviews'], keep=False)\n",
    "dataframe.head(10)"
   ]
  },
  {
   "cell_type": "markdown",
   "id": "97ebeaa7",
   "metadata": {},
   "source": [
    "#### <a id='7Ae'>e. Resetting index</a>\n",
    "It seems that our index needs to be reset, since after removal of some rows, some index values are missing, which may cause problem in future operations."
   ]
  },
  {
   "cell_type": "code",
   "execution_count": null,
   "id": "b04b3eee",
   "metadata": {},
   "outputs": [],
   "source": [
    "dataframe = dataframe.reset_index(drop=True)\n",
    "dataframe.head(10)"
   ]
  },
  {
   "cell_type": "markdown",
   "id": "cdd42b85",
   "metadata": {},
   "source": [
    "#### <a id='7Af'>f. Removing Punctuations, Numbers and Special characters</a>\n",
    "This step should not be followed if we also want to do sentiment analysis on __key phrases__ as well, because semantic meaning in a sentence needs to be present. So here we will create one additional column 'absolute_tidy_tweets' which will contain absolute tidy words which can be further used for sentiment analysis on __key words__."
   ]
  },
  {
   "cell_type": "code",
   "execution_count": null,
   "id": "a14725fc",
   "metadata": {},
   "outputs": [],
   "source": [
    "def clean_text(text):\n",
    "    '''Make text lowercase, remove text in square brackets,remove links,remove punctuation\n",
    "    and remove words containing numbers.'''\n",
    "    text = text.lower()\n",
    "    text = re.sub('\\[.*?\\]', '', text)\n",
    "    text = re.sub('https?://\\S+|www\\.\\S+', '', text)\n",
    "    text = re.sub('<.*?>+', '', text)\n",
    "    text = re.sub('[%s]' % re.escape(string.punctuation), '', text)\n",
    "    text = re.sub('\\n', '', text)\n",
    "    text = re.sub('\\w*\\d\\w*', '', text)\n",
    "    return text"
   ]
  },
  {
   "cell_type": "code",
   "execution_count": null,
   "id": "901d459f",
   "metadata": {},
   "outputs": [],
   "source": [
    "dataframe['Clean_Reviews'] = dataframe['Clean_Reviews'].apply(lambda x: clean_text(x))\n",
    "dataframe.head(10)"
   ]
  },
  {
   "cell_type": "markdown",
   "id": "6d37a5fa",
   "metadata": {},
   "source": [
    "#### <a id='7Ag'>g. Function to remove emoji</a>"
   ]
  },
  {
   "cell_type": "code",
   "execution_count": null,
   "id": "a5aba0a5",
   "metadata": {},
   "outputs": [],
   "source": [
    "def remove_emoji(text):\n",
    "    emoji_pattern = re.compile(\"[\"\n",
    "                           u\"\\U0001F600-\\U0001F64F\"  # emoticons\n",
    "                           u\"\\U0001F300-\\U0001F5FF\"  # symbols & pictographs\n",
    "                           u\"\\U0001F680-\\U0001F6FF\"  # transport & map symbols\n",
    "                           u\"\\U0001F1E0-\\U0001F1FF\"  # flags (iOS)\n",
    "                           u\"\\U00002702-\\U000027B0\"\n",
    "                           u\"\\U000024C2-\\U0001F251\"\n",
    "                           \"]+\", flags=re.UNICODE)\n",
    "    return emoji_pattern.sub(r'', text)"
   ]
  },
  {
   "cell_type": "code",
   "execution_count": null,
   "id": "4e858843",
   "metadata": {},
   "outputs": [],
   "source": [
    "dataframe['Clean_Reviews']=dataframe['Clean_Reviews'].apply(lambda x: remove_emoji(x))\n",
    "dataframe.head(10)"
   ]
  },
  {
   "cell_type": "code",
   "execution_count": null,
   "id": "dd83da13",
   "metadata": {},
   "outputs": [],
   "source": [
    "dataframe['tokenized_tweets'] = dataframe['Clean_Reviews'].apply(lambda x: nltk.word_tokenize(x))\n",
    "dataframe.head(10)"
   ]
  },
  {
   "cell_type": "code",
   "execution_count": null,
   "id": "71d19647",
   "metadata": {},
   "outputs": [],
   "source": [
    "dataframe.drop(['tokenized_tweets'],axis=1,inplace=True)"
   ]
  },
  {
   "cell_type": "markdown",
   "id": "4de2601c",
   "metadata": {},
   "source": [
    "#### <a id='7Ah'>h. Removing Stop words</a>\n",
    "With the same reason we mentioned above, we won't perform this on 'Clean-Review' column, because it needs to be used for __key_phrases__ sentiment analysis."
   ]
  },
  {
   "cell_type": "code",
   "execution_count": null,
   "id": "d2e5fea3",
   "metadata": {},
   "outputs": [],
   "source": [
    "import codecs\n",
    "with codecs.open(\"C:/Users/Moin Dalvi/Documents/Data Science Material/\\\n",
    "Data Science Assignments/Text MIning/stop.txt\", \"r\", encoding=\"ISO-8859-1\") as s:\n",
    "    stop = s.read()\n",
    "    print(stop[:101])"
   ]
  },
  {
   "cell_type": "code",
   "execution_count": null,
   "id": "66400178",
   "metadata": {},
   "outputs": [],
   "source": [
    "stop.split(\" \")"
   ]
  },
  {
   "cell_type": "code",
   "execution_count": null,
   "id": "5f518b20",
   "metadata": {},
   "outputs": [],
   "source": [
    "from nltk.corpus import stopwords\n",
    "my_stop_words=stopwords.words('english')\n",
    "sw_list = [stop]\n",
    "my_stop_words.extend(sw_list)\n",
    "stopwords_set = set(my_stop_words)\n",
    "cleaned_tweets = []\n",
    "\n",
    "for index, row in dataframe.iterrows():\n",
    "    \n",
    "    # filerting out all the stopwords \n",
    "    words_without_stopwords = [word for word in row.Clean_Reviews.split() if not word in stopwords_set and '#' not in word.lower()]\n",
    "    \n",
    "    # finally creating tweets list of tuples containing stopwords(list) and sentimentType \n",
    "    cleaned_tweets.append(' '.join(words_without_stopwords))\n",
    "    \n",
    "dataframe['Clean_Reviews'] = cleaned_tweets\n",
    "dataframe.head(10)"
   ]
  },
  {
   "cell_type": "markdown",
   "id": "9163bcc0",
   "metadata": {},
   "source": [
    "#### <a id='7Ai'>i. Tokenize *'Clean_Reviews'*</a>  "
   ]
  },
  {
   "cell_type": "code",
   "execution_count": null,
   "id": "1dff10f8",
   "metadata": {},
   "outputs": [],
   "source": [
    "TextBlob(dataframe['Clean_Reviews'][1]).words"
   ]
  },
  {
   "cell_type": "code",
   "execution_count": null,
   "id": "a7be8787",
   "metadata": {},
   "outputs": [],
   "source": [
    "tokenized_review = dataframe['Clean_Reviews'].apply(lambda x: x.split())\n",
    "tokenized_review.head(10)"
   ]
  },
  {
   "cell_type": "markdown",
   "id": "b19d30e9",
   "metadata": {},
   "source": [
    "#### <a id='7Ai'>j. Converting words to Stemmer</a>"
   ]
  },
  {
   "cell_type": "code",
   "execution_count": null,
   "id": "b26bab1e",
   "metadata": {},
   "outputs": [],
   "source": [
    "from nltk.stem.snowball import SnowballStemmer\n",
    "\n",
    "# Use English stemmer.\n",
    "stemmer = SnowballStemmer(\"english\")"
   ]
  },
  {
   "cell_type": "code",
   "execution_count": null,
   "id": "fa00a938",
   "metadata": {},
   "outputs": [],
   "source": [
    "xx = pd.DataFrame()\n",
    "xx['stemmed'] = dataframe['Clean_Reviews'].apply(lambda x: \" \".join([stemmer.stem(word) for word in x.split()]))\n",
    "xx"
   ]
  },
  {
   "cell_type": "markdown",
   "id": "647f76f8",
   "metadata": {},
   "source": [
    "#### <a id='7Ak'>k. Converting words to Lemma</a>"
   ]
  },
  {
   "cell_type": "code",
   "execution_count": null,
   "id": "b4b6e39a",
   "metadata": {},
   "outputs": [],
   "source": [
    "word_lemmatizer = WordNetLemmatizer()\n",
    "nltk.download('omw-1.4')\n",
    "yy=pd.DataFrame()\n",
    "yy['stemmed'] = dataframe['Clean_Reviews'].apply(lambda x: \" \".join([word_lemmatizer.lemmatize(i) for i in x.split()]))\n",
    "yy"
   ]
  },
  {
   "cell_type": "markdown",
   "id": "f76b40df",
   "metadata": {},
   "source": [
    "0.1. __<a href='#0.1' target='_self'>Table of Contents:</a>__"
   ]
  },
  {
   "cell_type": "markdown",
   "id": "5af85391",
   "metadata": {},
   "source": [
    "## <a id='8'>8. Basic Feature Extaction</a>\n",
    "### <a id='8Aa'>A. **Applying bag of Words without N grams**</a>"
   ]
  },
  {
   "cell_type": "code",
   "execution_count": null,
   "id": "9c7f04a1",
   "metadata": {},
   "outputs": [],
   "source": [
    "from sklearn.feature_extraction.text import CountVectorizer\n",
    "cv=CountVectorizer()\n",
    "tweetscv=cv.fit_transform(dataframe.Clean_Reviews)"
   ]
  },
  {
   "cell_type": "code",
   "execution_count": null,
   "id": "55fc6a0d",
   "metadata": {},
   "outputs": [],
   "source": [
    "#print(cv.vocabulary_)"
   ]
  },
  {
   "cell_type": "code",
   "execution_count": null,
   "id": "2950c3d1",
   "metadata": {},
   "outputs": [],
   "source": [
    "print(cv.get_feature_names()[109:200])"
   ]
  },
  {
   "cell_type": "code",
   "execution_count": null,
   "id": "eeb2b0a7",
   "metadata": {},
   "outputs": [],
   "source": [
    "print(cv.get_feature_names()[:100])"
   ]
  },
  {
   "cell_type": "code",
   "execution_count": null,
   "id": "8e605701",
   "metadata": {},
   "outputs": [],
   "source": [
    "print(tweetscv.toarray()[100:200])"
   ]
  },
  {
   "cell_type": "markdown",
   "id": "15e83ea3",
   "metadata": {},
   "source": [
    "### <a id='8Ba'>B. **CountVectorizer with N-grams (Bigrams & Trigrams)**</a>"
   ]
  },
  {
   "cell_type": "code",
   "execution_count": null,
   "id": "6a8e1937",
   "metadata": {},
   "outputs": [],
   "source": [
    "from nltk.corpus import stopwords\n",
    "ps = PorterStemmer()\n",
    "corpus = []\n",
    "for i in tqdm_notebook(range(0, len(dataframe))):\n",
    "    review = re.sub('[^a-zA-Z]', ' ', dataframe['Clean_Reviews'][i])\n",
    "    review = review.lower()\n",
    "    review = review.split()\n",
    "    \n",
    "    review = [ps.stem(word) for word in review if not word in stopwords.words('english')]\n",
    "    review = ' '.join(review)\n",
    "    corpus.append(review)"
   ]
  },
  {
   "cell_type": "code",
   "execution_count": null,
   "id": "2fd5f383",
   "metadata": {},
   "outputs": [],
   "source": [
    "corpus[3]"
   ]
  },
  {
   "cell_type": "code",
   "execution_count": null,
   "id": "4c546dbf",
   "metadata": {},
   "outputs": [],
   "source": [
    "## Applying Countvectorizer\n",
    "# Creating the Bag of Words model\n",
    "cv = CountVectorizer(max_features=5000,ngram_range=(1,3))\n",
    "X = cv.fit_transform(corpus).toarray()"
   ]
  },
  {
   "cell_type": "code",
   "execution_count": null,
   "id": "c6ecc4dd",
   "metadata": {},
   "outputs": [],
   "source": [
    "X.shape"
   ]
  },
  {
   "cell_type": "code",
   "execution_count": null,
   "id": "07de6543",
   "metadata": {},
   "outputs": [],
   "source": [
    "cv.get_feature_names()[:20]"
   ]
  },
  {
   "cell_type": "code",
   "execution_count": null,
   "id": "ffa1b6c4",
   "metadata": {},
   "outputs": [],
   "source": [
    "cv.get_params()"
   ]
  },
  {
   "cell_type": "code",
   "execution_count": null,
   "id": "3de1a00c",
   "metadata": {},
   "outputs": [],
   "source": [
    "count_df = pd.DataFrame(X, columns=cv.get_feature_names())\n",
    "count_df"
   ]
  },
  {
   "cell_type": "markdown",
   "id": "8d72946b",
   "metadata": {},
   "source": [
    "### <a id='8Ca'>C. **TF-IDF Vectorizer**</a>"
   ]
  },
  {
   "cell_type": "code",
   "execution_count": null,
   "id": "de5b787f",
   "metadata": {},
   "outputs": [],
   "source": [
    "from nltk.corpus import stopwords\n",
    "ps = PorterStemmer()\n",
    "corpus = []\n",
    "for i in tqdm_notebook(range(0, len(dataframe))):\n",
    "    review = re.sub('[^a-zA-Z]', ' ', dataframe['Clean_Reviews'][i])\n",
    "    review = review.lower()\n",
    "    review = review.split()\n",
    "    \n",
    "    review = [ps.stem(word) for word in review if not word in stopwords.words('english')]\n",
    "    review = ' '.join(review)\n",
    "    corpus.append(review)"
   ]
  },
  {
   "cell_type": "code",
   "execution_count": null,
   "id": "a668d683",
   "metadata": {},
   "outputs": [],
   "source": [
    "corpus[4]"
   ]
  },
  {
   "cell_type": "code",
   "execution_count": null,
   "id": "38bf2b77",
   "metadata": {},
   "outputs": [],
   "source": [
    "## TFidf Vectorizer\n",
    "tfidf_v=TfidfVectorizer(max_features=5000,ngram_range=(1,3))\n",
    "X=tfidf_v.fit_transform(corpus).toarray()"
   ]
  },
  {
   "cell_type": "code",
   "execution_count": null,
   "id": "68288c88",
   "metadata": {},
   "outputs": [],
   "source": [
    "X.shape"
   ]
  },
  {
   "cell_type": "code",
   "execution_count": null,
   "id": "63fe1728",
   "metadata": {},
   "outputs": [],
   "source": [
    "tfidf_v.get_feature_names()[:20]"
   ]
  },
  {
   "cell_type": "code",
   "execution_count": null,
   "id": "88b5d5ee",
   "metadata": {},
   "outputs": [],
   "source": [
    "tfidf_v.get_params()"
   ]
  },
  {
   "cell_type": "code",
   "execution_count": null,
   "id": "3cdce919",
   "metadata": {},
   "outputs": [],
   "source": [
    "count_df = pd.DataFrame(X, columns=tfidf_v.get_feature_names())\n",
    "count_df"
   ]
  },
  {
   "cell_type": "markdown",
   "id": "c88bb86a",
   "metadata": {},
   "source": [
    "### <a id='8Da'>D. Named Entity Recognition (NER)</a>"
   ]
  },
  {
   "cell_type": "code",
   "execution_count": null,
   "id": "b8d6d82c",
   "metadata": {},
   "outputs": [],
   "source": [
    "reviews=[review.strip() for review in dataframe.Clean_Reviews] # remove both the leading and the trailing characters\n",
    "reviews=[comment for comment in reviews if comment] # removes empty strings, because they are considered in Python as False\n",
    "# Joining the list into one string/text\n",
    "reviews_text=' '.join(reviews)\n",
    "reviews_text[0:1000]"
   ]
  },
  {
   "cell_type": "code",
   "execution_count": null,
   "id": "9a222966",
   "metadata": {},
   "outputs": [],
   "source": [
    "# Parts Of Speech (POS) Tagging\n",
    "nlp=spacy.load('en_core_web_sm')\n",
    "\n",
    "one_block=reviews_text[:1000]\n",
    "doc_block=nlp(one_block)\n",
    "spacy.displacy.render(doc_block,style='ent',jupyter=True)"
   ]
  },
  {
   "cell_type": "code",
   "execution_count": null,
   "id": "9f1028fa",
   "metadata": {},
   "outputs": [],
   "source": [
    "for token in doc_block[:50]:\n",
    "    print(token,token.pos_)  "
   ]
  },
  {
   "cell_type": "code",
   "execution_count": null,
   "id": "fb602116",
   "metadata": {},
   "outputs": [],
   "source": [
    "# Filtering the nouns and verbs only\n",
    "one_block=reviews_text\n",
    "doc_block=nlp(one_block)\n",
    "nouns_verbs=[token.text for token in doc_block if token.pos_ in ('NOUN','VERB')]\n",
    "print(nouns_verbs[100:200])"
   ]
  },
  {
   "cell_type": "code",
   "execution_count": null,
   "id": "6d4ec555",
   "metadata": {},
   "outputs": [],
   "source": [
    "# Counting the noun & verb tokens\n",
    "from sklearn.feature_extraction.text import CountVectorizer\n",
    "cv=CountVectorizer()\n",
    "\n",
    "X=cv.fit_transform(nouns_verbs)\n",
    "sum_words=X.sum(axis=0)\n",
    "\n",
    "words_freq=[(word,sum_words[0,idx]) for word,idx in cv.vocabulary_.items()]\n",
    "words_freq=sorted(words_freq, key=lambda x: x[1], reverse=True)\n",
    "\n",
    "wd_df=pd.DataFrame(words_freq)\n",
    "wd_df.columns=['word','count']\n",
    "wd_df[0:10] # viewing top ten results"
   ]
  },
  {
   "cell_type": "code",
   "execution_count": null,
   "id": "266e459d",
   "metadata": {},
   "outputs": [],
   "source": [
    "# Visualizing results (Barchart for top 10 nouns + verbs)\n",
    "wd_df[0:10].plot.bar(x='word',figsize=(12,8),title='Top 10 nouns and verbs')"
   ]
  },
  {
   "cell_type": "markdown",
   "id": "4f75658a",
   "metadata": {},
   "source": [
    "0.1. __<a href='#0.1' target='_self'>Table of Contents:</a>__"
   ]
  },
  {
   "cell_type": "markdown",
   "id": "445b757f",
   "metadata": {},
   "source": [
    "## <a id='9'>9. Feature Extraction</a>\n",
    "\n",
    "We need to convert textual representation in the form on numeric features. We have two popular techniques to perform feature extraction:\n",
    "\n",
    "1. __Bag of words (Simple vectorization)__\n",
    "2. __TF-IDF (Term Frequency - Inverse Document Frequency)__\n",
    "\n",
    "We will use extracted features from both one by one to perform sentiment analysis and will compare the result at last.\n"
   ]
  },
  {
   "cell_type": "markdown",
   "id": "24630f7c",
   "metadata": {},
   "source": [
    "### <a id='9Aa'>A. Feature Extraction for 'Key Words'</a>"
   ]
  },
  {
   "cell_type": "code",
   "execution_count": null,
   "id": "dacd3f5e",
   "metadata": {},
   "outputs": [],
   "source": [
    "# BOW features\n",
    "bow_word_vectorizer = CountVectorizer(max_df=0.90, min_df=2, stop_words='english')\n",
    "# bag-of-words feature matrix\n",
    "bow_word_feature = bow_word_vectorizer.fit_transform(dataframe['Clean_Reviews'])\n",
    "\n",
    "# TF-IDF features\n",
    "tfidf_word_vectorizer = TfidfVectorizer(max_df=0.90, min_df=2, stop_words='english')\n",
    "# TF-IDF feature matrix\n",
    "tfidf_word_feature = tfidf_word_vectorizer.fit_transform(dataframe['Clean_Reviews'])"
   ]
  },
  {
   "cell_type": "markdown",
   "id": "889ebe5b",
   "metadata": {},
   "source": [
    "0.1. __<a href='#0.1' target='_self'>Table of Contents:</a>__"
   ]
  },
  {
   "cell_type": "markdown",
   "id": "aa36e689",
   "metadata": {},
   "source": [
    "## <a id='10'>10. Fetch sentiments</a>\n",
    "To proceed further, we need to know the sentiment type of every tweet, that can be done using two ways: <br/>\n",
    "    __a. Using NLTK's SentimentIntensityAnalyzer (We'll refer as SIA)<br/>__\n",
    "    __b. Using TextBlob<br/>__"
   ]
  },
  {
   "cell_type": "code",
   "execution_count": null,
   "id": "5d66dec6",
   "metadata": {},
   "outputs": [],
   "source": [
    "# 1 way\n",
    "def fetch_sentiment_using_SIA(text):\n",
    "    sid = SentimentIntensityAnalyzer()\n",
    "    polarity_scores = sid.polarity_scores(text)\n",
    "    return 'neg' if polarity_scores['neg'] > polarity_scores['pos'] else 'pos'\n",
    "\n",
    "# 2 way\n",
    "def fetch_sentiment_using_textblob(text):\n",
    "    analysis = TextBlob(text)\n",
    "    return 'pos' if analysis.sentiment.polarity >= 0 else 'neg'"
   ]
  },
  {
   "cell_type": "markdown",
   "id": "30f6539f",
   "metadata": {},
   "source": [
    "### <a id='10Aa'>a. Using NLTK's SentimentIntensityAnalyzer</a>"
   ]
  },
  {
   "cell_type": "code",
   "execution_count": null,
   "id": "9a0dd477",
   "metadata": {},
   "outputs": [],
   "source": [
    "sentiments_using_SIA = dataframe.Clean_Reviews.apply(lambda tweet: fetch_sentiment_using_SIA(tweet))\n",
    "pd.DataFrame(sentiments_using_SIA.value_counts())"
   ]
  },
  {
   "cell_type": "code",
   "execution_count": null,
   "id": "2ade8f20",
   "metadata": {},
   "outputs": [],
   "source": [
    "dataframe.Clean_Reviews[8]"
   ]
  },
  {
   "cell_type": "code",
   "execution_count": null,
   "id": "57b7a78f",
   "metadata": {},
   "outputs": [],
   "source": [
    "sid = SentimentIntensityAnalyzer()\n",
    "sid.polarity_scores(dataframe.Clean_Reviews[8])"
   ]
  },
  {
   "cell_type": "code",
   "execution_count": null,
   "id": "6e779f78",
   "metadata": {},
   "outputs": [],
   "source": [
    "sid.polarity_scores(x.Clean_Reviews[8])"
   ]
  },
  {
   "cell_type": "code",
   "execution_count": null,
   "id": "3c2619d0",
   "metadata": {},
   "outputs": [],
   "source": [
    "df=pd.DataFrame()\n",
    "df['Review'] = dataframe.Clean_Reviews\n",
    "df['scores'] = dataframe['Clean_Reviews'].apply(lambda review: sid.polarity_scores(review))\n",
    "df.head()"
   ]
  },
  {
   "cell_type": "code",
   "execution_count": null,
   "id": "03576cd8",
   "metadata": {},
   "outputs": [],
   "source": [
    "df['compound']  = df['scores'].apply(lambda scores: scores['compound'])\n",
    "df.head()"
   ]
  },
  {
   "cell_type": "code",
   "execution_count": null,
   "id": "d178ccc3",
   "metadata": {},
   "outputs": [],
   "source": [
    "df['sentiment'] = df['compound'].apply(lambda c: 'Positive' if c >=0.05 else ('Negative' if c<=-0.05  else 'Neutral'))\n",
    "df"
   ]
  },
  {
   "cell_type": "code",
   "execution_count": null,
   "id": "aec12758",
   "metadata": {},
   "outputs": [],
   "source": [
    "from collections import defaultdict\n",
    "from plotly import tools\n",
    "from plotly.offline import iplot\n",
    "#Filtering data\n",
    "positive_review = df[df[\"sentiment\"]=='Positive'].dropna()\n",
    "neutral_review = df[df[\"sentiment\"]=='Neutral'].dropna()\n",
    "negative_review = df[df[\"sentiment\"]=='Negative'].dropna()\n",
    "\n",
    "## custom function for ngram generation ##\n",
    "def generate_ngrams(text, n_gram = 1):\n",
    "    token = [token for token in text.lower().split(\" \") if token != \"\" if token not in STOPWORDS]\n",
    "    ngrams = zip(*[token[i:] for i in range(n_gram)])\n",
    "    return [\" \".join(ngram) for ngram in ngrams]\n",
    "\n",
    "# custom function for horizontal bar chart ##\n",
    "def horizontal_bar_chart(df, color):\n",
    "    trace = go.Bar(\n",
    "        y =df[\"word\"].values[::-1],\n",
    "        x = df[\"wordcount\"].values[::-1],\n",
    "        showlegend = False,\n",
    "        orientation = 'h',\n",
    "        marker = dict(\n",
    "            color = color,\n",
    "        ),\n",
    "    )\n",
    "    return trace\n",
    "\n",
    "## Get the bar chart from positive reviews ##\n",
    "freq_dict = defaultdict(int)\n",
    "for sent in positive_review[\"Review\"]:\n",
    "    for word in generate_ngrams(sent):\n",
    "        freq_dict[word] += 1\n",
    "fd_sorted = pd.DataFrame(sorted(freq_dict.items(), key=lambda x: x[1])[::-1])\n",
    "fd_sorted.columns = [\"word\", \"wordcount\"]\n",
    "trace0 = horizontal_bar_chart(fd_sorted.head(20), 'blue')\n",
    "\n",
    "\n",
    "## Get the bar chart from neutral reviews ##\n",
    "freq_dict = defaultdict(int)\n",
    "for sent in neutral_review[\"Review\"]:\n",
    "    for word in generate_ngrams(sent):\n",
    "        freq_dict[word] += 1\n",
    "fd_sorted = pd.DataFrame(sorted(freq_dict.items(), key=lambda x: x[1])[::-1])\n",
    "fd_sorted.columns = [\"word\", \"wordcount\"]\n",
    "trace1 = horizontal_bar_chart(fd_sorted.head(20), 'purple')\n",
    "\n",
    "## Get the bar chart from negative reviews ##\n",
    "freq_dict = defaultdict(int)\n",
    "for sent in negative_review[\"Review\"]:\n",
    "    for word in generate_ngrams(sent):\n",
    "        freq_dict[word] += 1\n",
    "fd_sorted = pd.DataFrame(sorted(freq_dict.items(), key=lambda x: x[1])[::-1])\n",
    "fd_sorted.columns = [\"word\", \"wordcount\"]\n",
    "trace2 = horizontal_bar_chart(fd_sorted.head(20), 'yellow')\n",
    "\n",
    "# Creating two subplots\n",
    "fig = tools.make_subplots(rows=3, cols=1, vertical_spacing = 0.04,\n",
    "                          subplot_titles=[\"Frequent words of positive reviews\", \"Frequent words of neutral reviews\",\n",
    "                                          \"Frequent words of negative reviews\"])\n",
    "fig.append_trace(trace0, 1, 1)\n",
    "fig.append_trace(trace1, 2, 1)\n",
    "fig.append_trace(trace2, 3, 1)\n",
    "fig['layout'].update(height=1200, width=900, paper_bgcolor='rgb(233,233,233)', title=\"Word Count Plots\")\n",
    "iplot(fig, filename='word-plots')"
   ]
  },
  {
   "attachments": {
    "newplot%20%281%29.png": {
     "image/png": "[encoded data removed]"
    }
   },
   "cell_type": "markdown",
   "id": "d392c9fb",
   "metadata": {},
   "source": [
    "![newplot%20%281%29.png](attachment:newplot%20%281%29.png)"
   ]
  },
  {
   "cell_type": "code",
   "execution_count": null,
   "id": "3e4f9bb9",
   "metadata": {},
   "outputs": [],
   "source": [
    "temp = df.groupby('sentiment').count()['Tweets'].reset_index().sort_values(by='Tweets',ascending=False)\n",
    "temp.style.background_gradient(cmap='rainbow')"
   ]
  },
  {
   "cell_type": "code",
   "execution_count": null,
   "id": "1d6a65d2",
   "metadata": {},
   "outputs": [],
   "source": [
    "plt.figure(figsize=(12,6))\n",
    "sns.countplot(x='sentiment',data=df)"
   ]
  },
  {
   "cell_type": "code",
   "execution_count": null,
   "id": "641906e9",
   "metadata": {},
   "outputs": [],
   "source": [
    "# Plotting the sentiment value for whole review\n",
    "import seaborn as sns\n",
    "plt.figure(figsize=(15,10))\n",
    "sns.distplot(df['compound'])"
   ]
  },
  {
   "cell_type": "code",
   "execution_count": null,
   "id": "2261bce6",
   "metadata": {},
   "outputs": [],
   "source": [
    "df['word_count'] = df['Tweets'].apply(lambda x: len(str(x).split(\" \")))\n",
    "df[['Tweets','word_count']].head()"
   ]
  },
  {
   "cell_type": "code",
   "execution_count": null,
   "id": "674d18c4",
   "metadata": {},
   "outputs": [],
   "source": [
    "# Correlation analysis\n",
    "df.plot.scatter(x='word_count',y='compound',figsize=(8,8),title='Sentence sentiment value to sentence word count')"
   ]
  },
  {
   "cell_type": "markdown",
   "id": "911400da",
   "metadata": {},
   "source": [
    "### <a id='10Ab'>b. Using TextBlob</a>"
   ]
  },
  {
   "cell_type": "code",
   "execution_count": null,
   "id": "8586b107",
   "metadata": {},
   "outputs": [],
   "source": [
    "sentiments_using_textblob = dataframe.Clean_Reviews.apply(lambda tweet: fetch_sentiment_using_textblob(tweet))\n",
    "pd.DataFrame(sentiments_using_textblob.value_counts())"
   ]
  },
  {
   "cell_type": "code",
   "execution_count": null,
   "id": "5bd92f71",
   "metadata": {},
   "outputs": [],
   "source": [
    " # let's calculate subjectivity and Polarity\n",
    "# function for subjectivity\n",
    "def calc_subj(text):\n",
    "    return TextBlob(text).sentiment.subjectivity\n",
    " \n",
    "# function for Polarity\n",
    "def calc_pola(text):\n",
    "    return TextBlob(text).sentiment.polarity\n",
    " \n",
    "dataframe['Subjectivity'] = dataframe.Clean_Reviews.apply(calc_subj)\n",
    "dataframe['Polarity'] = dataframe.Clean_Reviews.apply(calc_pola)\n",
    "dataframe.head()"
   ]
  },
  {
   "cell_type": "code",
   "execution_count": null,
   "id": "0e09c9b3",
   "metadata": {},
   "outputs": [],
   "source": [
    "f, axes = plt.subplots(figsize = (15,8))\n",
    "plt.scatter(dataframe.Polarity, dataframe.Subjectivity)\n",
    "plt.title('Sentiment Analysis')\n",
    "plt.xlabel('Polarity')\n",
    "plt.ylabel('Subjectivity')"
   ]
  },
  {
   "cell_type": "code",
   "execution_count": null,
   "id": "a30e5f48",
   "metadata": {},
   "outputs": [],
   "source": [
    "import plotly.express as px\n",
    "import plotly.graph_objects as go\n",
    "from plotly.subplots import make_subplots\n",
    "import warnings\n",
    "warnings.filterwarnings(\"ignore\")\n",
    "\n",
    "\n",
    "type_ = [\"Positive\", \"Neutral\", \"Negative\"]\n",
    "fig = make_subplots(rows=1, cols=1)\n",
    "\n",
    "fig.add_trace(go.Pie(labels=type_, values=df['sentiment'].value_counts(), name=\"sentiment\"))\n",
    "\n",
    "# Use `hole` to create a donut-like pie chart\n",
    "fig.update_traces(hole=.4, hoverinfo=\"label+percent+name\", textfont_size=16)\n",
    "\n",
    "fig.update_layout(\n",
    "    title_text=\"Sentiment Analysis\",\n",
    "    # Add annotations in the center of the donut pies.\n",
    "    annotations=[dict(text='Sentiment', x=0.5, y=0.5, font_size=20, showarrow=False)])\n",
    "fig.show()"
   ]
  },
  {
   "attachments": {
    "newplot.png": {
     "image/png": "[encoded data removed]"
    }
   },
   "cell_type": "markdown",
   "id": "47fa9d33",
   "metadata": {},
   "source": [
    "![newplot.png](attachment:newplot.png)"
   ]
  },
  {
   "cell_type": "markdown",
   "id": "9486fbc7",
   "metadata": {},
   "source": [
    "##### *NLTK* gives us more negative sentiments than TexBlob, so we will prefer NLTK, since classfication seems better."
   ]
  },
  {
   "cell_type": "code",
   "execution_count": null,
   "id": "c79654f4",
   "metadata": {},
   "outputs": [],
   "source": [
    "dataframe['sentiment'] = sentiments_using_SIA\n",
    "dataframe.to_csv(\"C:/Users/Moin Dalvi/Documents/Data Science Material/Data Science Assignments/Text MIning/clean_review.csv\",index=False)\n",
    "dataframe.head()"
   ]
  },
  {
   "cell_type": "markdown",
   "id": "d894e35c",
   "metadata": {},
   "source": [
    "0.1. __<a href='#0.1' target='_self'>Table of Contents:</a>__"
   ]
  },
  {
   "cell_type": "markdown",
   "id": "4e81c60e",
   "metadata": {},
   "source": [
    "## <a id='11'>11. Story Generation and Visualization</a>"
   ]
  },
  {
   "cell_type": "code",
   "execution_count": null,
   "id": "12ae52d5",
   "metadata": {},
   "outputs": [],
   "source": [
    "allWords_ = ' '.join([review for review in dataframe[:500]['Clean_Reviews']])\n",
    "f, axes = plt.subplots(figsize=(20,12))\n",
    "wordcloud= WordCloud(\n",
    "        background_color = 'black',\n",
    "        width = 1800,\n",
    "        height =1400).generate(allWords_)\n",
    "plt.imshow(wordcloud)"
   ]
  },
  {
   "cell_type": "markdown",
   "id": "bc7f4712",
   "metadata": {},
   "source": [
    "### <a id='11A'>A. Most common words in positive Review</a>\n",
    "Answer can be best found using WordCloud"
   ]
  },
  {
   "cell_type": "code",
   "execution_count": null,
   "id": "ecd2b1f4",
   "metadata": {},
   "outputs": [],
   "source": [
    "def generate_wordcloud(all_words):\n",
    "    wordcloud = WordCloud(width=800, height=500, random_state=21, max_font_size=100, relative_scaling=0.5, colormap='Dark2').generate(all_words)\n",
    "\n",
    "    plt.figure(figsize=(14, 10))\n",
    "    plt.imshow(wordcloud, interpolation=\"bilinear\")\n",
    "    plt.axis('off')\n",
    "    plt.show()"
   ]
  },
  {
   "cell_type": "code",
   "execution_count": null,
   "id": "b4eb1f47",
   "metadata": {},
   "outputs": [],
   "source": [
    "all_words = ' '.join([text for text in dataframe['Clean_Reviews'][dataframe.sentiment == 'pos']])\n",
    "generate_wordcloud(all_words)"
   ]
  },
  {
   "cell_type": "markdown",
   "id": "33c3c4f0",
   "metadata": {},
   "source": [
    "### <a id='11B'>B. Most common words in negative Review</a>"
   ]
  },
  {
   "cell_type": "code",
   "execution_count": null,
   "id": "1ce87d75",
   "metadata": {},
   "outputs": [],
   "source": [
    "all_words = ' '.join([text for text in dataframe['Clean_Reviews'][dataframe.sentiment == 'neg']])\n",
    "generate_wordcloud(all_words)"
   ]
  },
  {
   "cell_type": "markdown",
   "id": "d9c9c5b5",
   "metadata": {},
   "source": [
    "<div style=\"display:fill;\n",
    "            border-radius: false;\n",
    "            border-style: solid;\n",
    "            border-color:#000000;\n",
    "            border-style: false;\n",
    "            border-width: 2px;\n",
    "            color:#CF673A;\n",
    "            font-size:15px;\n",
    "            font-family: Georgia;\n",
    "            background-color:#E8DCCC;\n",
    "            text-align:center;\n",
    "            letter-spacing:0.1px;\n",
    "            padding: 0.1em;\">\n",
    "\n",
    "**<h2>♡ Thank you for taking the time ♡**"
   ]
  }
 ],
 "metadata": {
  "kernelspec": {
   "display_name": "Python 3 (ipykernel)",
   "language": "python",
   "name": "python3"
  },
  "language_info": {
   "codemirror_mode": {
    "name": "ipython",
    "version": 3
   },
   "file_extension": ".py",
   "mimetype": "text/x-python",
   "name": "python",
   "nbconvert_exporter": "python",
   "pygments_lexer": "ipython3",
   "version": "3.9.12"
  }
 },
 "nbformat": 4,
 "nbformat_minor": 5
}
